{
 "cells": [
  {
   "cell_type": "markdown",
   "id": "fca769a5",
   "metadata": {},
   "source": [
    "# Basics of the FFT"
   ]
  },
  {
   "cell_type": "markdown",
   "id": "08c31c32",
   "metadata": {},
   "source": [
    "## 1 - Fourier Transform"
   ]
  },
  {
   "cell_type": "markdown",
   "id": "090fbbd4",
   "metadata": {},
   "source": [
    "Before discussing the DFT (Discrete Fourier Transform) and FFT (Fast Fourier Transform), I believe it's natural to start off with the regular Fourier transform. The Fourier transform is essentially a specific mapping of some functions to other functions. However, the act of mapping functions to other functions isn't anything special, we do this all the time, like when we calculate derivatives for instance ($f(x) = x^2$ gets mapped onto $f'(x) = 2x$), but what makes the Fourier transform so neat is a couple properties that can be exploited to yield very cool results. Also, Fourier transforms admit an inverse (kind of like integration, but without the constant: applying the inverse gets you to exactly where you started). "
   ]
  },
  {
   "cell_type": "markdown",
   "id": "8e932d30",
   "metadata": {},
   "source": [
    "The definition of the Fourier transform can vary a lot, so I'll write a couple of them below. Note that they all pretty much say the same thing, the only difference is that sometimes, depending on where it is applied, some definitions will yield slightly less work than others. Also, the variables $t$ and $\\omega$ are arbitrary, but are most commonly used (sometimes it's common to see $x$ and $k$). "
   ]
  },
  {
   "cell_type": "markdown",
   "id": "1c29332b",
   "metadata": {},
   "source": [
    "\\begin{equation}\n",
    "    \\hat{f}(\\omega) \\equiv \\frac{1}{\\sqrt{2\\pi}} \\int_{-\\infty}^{\\infty}f(t)e^{-i\\omega t}dt \\iff f(t) \\equiv \\frac{1}{\\sqrt{2\\pi}} \\int_{-\\infty}^{\\infty}\\hat{f}(\\omega)e^{i\\omega t}d\\omega\n",
    "\\end{equation}"
   ]
  },
  {
   "cell_type": "markdown",
   "id": "0b1caf2d",
   "metadata": {},
   "source": [
    "\\begin{equation}\n",
    "    \\tilde{f}(\\omega) \\equiv  \\int_{-\\infty}^{\\infty}f(t)e^{i\\omega t}dt \\iff f(t) \\equiv \\frac{1}{2\\pi} \\int_{-\\infty}^{\\infty}\\tilde{f}(\\omega)e^{-i\\omega t}d\\omega\n",
    "\\end{equation}"
   ]
  },
  {
   "cell_type": "markdown",
   "id": "47f31b5f",
   "metadata": {},
   "source": [
    "\\begin{equation}\n",
    "    \\mathcal{F}\\{f(x)\\}(k) \\equiv  \\int_{-\\infty}^{\\infty}f(x)e^{-i k x}dx \\iff f(x) \\equiv \\frac{1}{2\\pi} \\int_{-\\infty}^{\\infty}\\mathcal{F}\\{f(x)\\}(k)e^{i k x}dk\n",
    "\\end{equation}"
   ]
  },
  {
   "cell_type": "markdown",
   "id": "558ee3d1",
   "metadata": {},
   "source": [
    "\\begin{equation}\n",
    "    ...\n",
    "\\end{equation}"
   ]
  },
  {
   "cell_type": "markdown",
   "id": "155f299d",
   "metadata": {},
   "source": [
    "Note that both the input and output functions of a Fourier transform can be complex valued. Also, even though complex numbers are involved, the integral itself is along the real line, so there won't be any funny business with complex integration (unless, of course, the integral is easier to solve extending it to the complex plane). Another thing to note is that this operation is only defined for functions that go to zero sufficiently fast as it approaches infinity, otherwise the integral wouldn't even exist (technically this condition can be extended, but thats a story for another day)."
   ]
  },
  {
   "cell_type": "markdown",
   "id": "0acd096f",
   "metadata": {},
   "source": [
    "Right off the bat, there are a couple interesting properties here. I'll list off a few, but beware, depending on the convention you use, some properties may appear slightly different, so im gonna adopt the last definition of the Fourier transform given above for consistency (all the following properties hold for all conventions, but some may appear a little different, like with an extra constant somewhere, for instance)."
   ]
  },
  {
   "cell_type": "markdown",
   "id": "3c7dc758",
   "metadata": {},
   "source": [
    "First of all, the Fourier transform is linear:"
   ]
  },
  {
   "cell_type": "markdown",
   "id": "2121d286",
   "metadata": {},
   "source": [
    "\\begin{equation}\n",
    "    \\mathcal{F}\\{f(x) + g(x)\\}(k) \\triangleq  \\int_{-\\infty}^{\\infty}\\left(f(x) + g(x) \\right)e^{-i k x}dx = \\int_{-\\infty}^{\\infty}\\left(f(x)\\right)e^{-i k x}dx + \\int_{-\\infty}^{\\infty}\\left(g(x)\\right)e^{-i k x}dx = \\mathcal{F}\\{f(x)\\}(k) + \\mathcal{F}\\{g(x)\\}(k)\n",
    "\\end{equation}"
   ]
  },
  {
   "cell_type": "markdown",
   "id": "9fd26e7b",
   "metadata": {},
   "source": [
    "(The symbol $\\triangleq$ just means \"it follows from the definition\")"
   ]
  },
  {
   "cell_type": "markdown",
   "id": "ad6c05e3",
   "metadata": {},
   "source": [
    "## 2 - Discrete Fourier transform"
   ]
  },
  {
   "cell_type": "markdown",
   "id": "cf2e9d21",
   "metadata": {},
   "source": [
    "Now, the Fourier transform is neat, but it can only get you so far. Nowadays, modern problems require modern solutions. So how can we use the Fourier transform in our endeavors? Well, we have to take a step back and discretize our formulas to hand over to computers. Below is a possible option to discretize the fourier transform. Notice that the integral now becomes a finite sum (which seems like a reasonable approximation, but is it a good one? Soon I'll test this hypothesis), the function $f(x)$ becomes the signal $f[n]$ of length $N$ (it is the original function sampled at N different points and put into a vector/ list/ array etc.) and the result $F[k]$ also becomes a signal of length $N$."
   ]
  },
  {
   "cell_type": "markdown",
   "id": "6146ce8e",
   "metadata": {},
   "source": [
    "$F[k] = \\sum_{n = 0}^{N - 1}f[n]e^{-2\\pi i k \\frac{n}{N}} \\iff f[n] = \\frac{1}{N}\\sum_{k = 0}^{N - 1}F[k]e^{2\\pi i n \\frac{k}{N}}$"
   ]
  },
  {
   "cell_type": "markdown",
   "id": "83c6b85b",
   "metadata": {},
   "source": [
    "## 3 - Fast Fourier transform"
   ]
  },
  {
   "cell_type": "code",
   "execution_count": 6,
   "id": "02b04332",
   "metadata": {},
   "outputs": [],
   "source": [
    "using FFTW, Plots"
   ]
  },
  {
   "cell_type": "code",
   "execution_count": 42,
   "id": "f47e18aa",
   "metadata": {},
   "outputs": [
    {
     "data": {
      "text/plain": [
       "dft (generic function with 1 method)"
      ]
     },
     "execution_count": 42,
     "metadata": {},
     "output_type": "execute_result"
    }
   ],
   "source": [
    "function dft(signal)\n",
    "    N = length(signal)\n",
    "    W = exp(-2π * im / N)\n",
    "    [sum(signal[i] * W^((i - 1)*j) for i = 1:N) for j = 0:(N - 1)]\n",
    "end"
   ]
  },
  {
   "cell_type": "code",
   "execution_count": 48,
   "id": "559044be",
   "metadata": {
    "scrolled": true
   },
   "outputs": [
    {
     "data": {
      "text/plain": [
       "idft (generic function with 1 method)"
      ]
     },
     "execution_count": 48,
     "metadata": {},
     "output_type": "execute_result"
    }
   ],
   "source": [
    "function idft(signal)\n",
    "    N = length(signal)\n",
    "    W = exp(2π * im / N)\n",
    "    [sum(signal[i] * W^((i - 1)*j) for i = 1:N) for j = 0:(N - 1)] / N\n",
    "end"
   ]
  },
  {
   "cell_type": "code",
   "execution_count": 49,
   "id": "bf3a9c84",
   "metadata": {},
   "outputs": [
    {
     "data": {
      "text/plain": [
       "101-element Vector{Float64}:\n",
       "  0.0\n",
       "  0.8414709848078965\n",
       "  0.9092974268256817\n",
       "  0.1411200080598672\n",
       " -0.7568024953079282\n",
       " -0.9589242746631385\n",
       " -0.27941549819892586\n",
       "  0.6569865987187891\n",
       "  0.9893582466233818\n",
       "  0.4121184852417566\n",
       " -0.5440211108893698\n",
       " -0.9999902065507035\n",
       " -0.5365729180004349\n",
       "  ⋮\n",
       "  0.8600694058124532\n",
       "  0.8939966636005579\n",
       "  0.10598751175115685\n",
       " -0.7794660696158047\n",
       " -0.9482821412699473\n",
       " -0.24525198546765434\n",
       "  0.683261714736121\n",
       "  0.9835877454343449\n",
       "  0.3796077390275217\n",
       " -0.5733818719904229\n",
       " -0.9992068341863537\n",
       " -0.5063656411097588"
      ]
     },
     "execution_count": 49,
     "metadata": {},
     "output_type": "execute_result"
    }
   ],
   "source": [
    "signal = sin.(0:100)"
   ]
  },
  {
   "cell_type": "code",
   "execution_count": 50,
   "id": "1394cf77",
   "metadata": {},
   "outputs": [
    {
     "data": {
      "text/plain": [
       "101-element Vector{ComplexF64}:\n",
       " -0.12717101366041972 + 0.0im\n",
       "  -0.1267533305051639 - 0.03069520845683263im\n",
       " -0.12548049335687084 - 0.06205736926309116im\n",
       " -0.12329075843665738 - 0.09480683152104383im\n",
       " -0.12007273365469179 - 0.1297799895138237im\n",
       " -0.11565051275484528 - 0.16801328853577058im\n",
       " -0.10975769935083773 - 0.2108678136182872im\n",
       " -0.10199251074508303 - 0.26022894714549405im\n",
       " -0.09173812967980638 - 0.31884856048777055im\n",
       " -0.07801436186325106 - 0.3909726249393875im\n",
       " -0.05918179865693679 - 0.4835846368519215im\n",
       " -0.03229533143428098 - 0.6091155775856756im\n",
       " 0.008495106251473705 - 0.792140950726211im\n",
       "                      ⋮\n",
       " 0.008495106251991735 + 0.7921409507260264im\n",
       " -0.03229533143383034 + 0.6091155775855299im\n",
       " -0.05918179865653256 + 0.4835846368518023im\n",
       " -0.07801436186287508 + 0.3909726249392877im\n",
       " -0.09173812967945078 + 0.3188485604876886im\n",
       "  -0.1019925107447402 + 0.26022894714542527im\n",
       " -0.10975769935050961 + 0.21086781361823081im\n",
       "  -0.1156505127545231 + 0.16801328853572567im\n",
       " -0.12007273365437066 + 0.12977998951378933im\n",
       " -0.12329075843633797 + 0.09480683152102098im\n",
       " -0.12548049335654932 + 0.062057369263074424im\n",
       " -0.12675333050483828 + 0.030695208456825468im"
      ]
     },
     "execution_count": 50,
     "metadata": {},
     "output_type": "execute_result"
    }
   ],
   "source": [
    "a = dft(signal)"
   ]
  },
  {
   "cell_type": "code",
   "execution_count": 51,
   "id": "cac187b1",
   "metadata": {},
   "outputs": [
    {
     "data": {
      "text/plain": [
       "101-element Vector{ComplexF64}:\n",
       "  -0.12717101366042005 + 0.0im\n",
       "   -0.1267533305051664 - 0.03069520845683371im\n",
       "  -0.12548049335687717 - 0.062057369263091695im\n",
       "  -0.12329075843666638 - 0.09480683152104555im\n",
       "  -0.12007273365470716 - 0.12977998951382277im\n",
       "   -0.1156505127548636 - 0.16801328853576844im\n",
       "  -0.10975769935085855 - 0.21086781361829132im\n",
       "  -0.10199251074511168 - 0.2602289471454984im\n",
       "  -0.09173812967983812 - 0.31884856048777893im\n",
       "  -0.07801436186329429 - 0.390972624939398im\n",
       "  -0.05918179865698753 - 0.48358463685193626im\n",
       "  -0.03229533143434288 - 0.6091155775856969im\n",
       "  0.008495106251393908 - 0.792140950726242im\n",
       "                       ⋮\n",
       "  0.008495106251391826 + 0.7921409507262422im\n",
       "  -0.03229533143434503 + 0.6091155775856965im\n",
       " -0.059181798656987264 + 0.4835846368519364im\n",
       "  -0.07801436186329287 + 0.3909726249393978im\n",
       "  -0.09173812967983848 + 0.31884856048777754im\n",
       "   -0.1019925107451094 + 0.2602289471454987im\n",
       "  -0.10975769935086166 + 0.21086781361829154im\n",
       "  -0.11565051275486463 + 0.16801328853576855im\n",
       "   -0.1200727336547058 + 0.1297799895138228im\n",
       "  -0.12329075843666774 + 0.09480683152104546im\n",
       "  -0.12548049335687536 + 0.062057369263092015im\n",
       "  -0.12675333050516596 + 0.0306952084568346im"
      ]
     },
     "execution_count": 51,
     "metadata": {},
     "output_type": "execute_result"
    }
   ],
   "source": [
    "b = fft(signal)"
   ]
  },
  {
   "cell_type": "code",
   "execution_count": 52,
   "id": "ef2afe5c",
   "metadata": {},
   "outputs": [
    {
     "data": {
      "text/plain": [
       "true"
      ]
     },
     "execution_count": 52,
     "metadata": {},
     "output_type": "execute_result"
    }
   ],
   "source": [
    "isapprox(a,b)"
   ]
  },
  {
   "cell_type": "code",
   "execution_count": 53,
   "id": "36b342ba",
   "metadata": {},
   "outputs": [
    {
     "data": {
      "text/plain": [
       "101-element Vector{ComplexF64}:\n",
       " -1.5686022338020775e-15 - 4.736063026904062e-14im\n",
       "      0.8414709848078927 - 2.6815458544529245e-14im\n",
       "      0.9092974268256752 - 1.5814769735802184e-14im\n",
       "     0.14112000805986444 - 7.054862744598272e-15im\n",
       "     -0.7568024953079207 - 5.505497048351581e-15im\n",
       "     -0.9589242746631255 - 1.233721595730737e-14im\n",
       "     -0.2794154981989223 - 2.007511318896154e-14im\n",
       "      0.6569865987187727 - 1.7813308583967146e-14im\n",
       "       0.989358246623356 - 2.977403802054767e-15im\n",
       "     0.41211848524174355 + 1.235975018701511e-14im\n",
       "     -0.5440211108893543 + 1.295841871650667e-14im\n",
       "     -0.9999902065506707 - 4.818340446105243e-15im\n",
       "     -0.5365729180004165 - 2.60613862723581e-14im\n",
       "                         ⋮\n",
       "      0.8600694058122111 - 9.193842057301524e-14im\n",
       "      0.8939966636003029 + 9.198170278251485e-14im\n",
       "     0.10598751175112475 + 2.000858224978784e-13im\n",
       "     -0.7794660696155807 + 1.300971156985971e-13im\n",
       "     -0.9482821412696714 - 5.608934658863687e-14im\n",
       "    -0.24525198546758392 - 1.8676173781301978e-13im\n",
       "      0.6832617147359147 - 1.3747546143276514e-13im\n",
       "      0.9835877454340461 + 5.0483269929638556e-14im\n",
       "     0.37960773902740397 + 2.088403020374149e-13im\n",
       "     -0.5733818719902479 + 1.9371591789409157e-13im\n",
       "     -0.9992068341860441 + 2.4097851052351954e-14im\n",
       "     -0.5063656411096018 - 1.2188404163836498e-13im"
      ]
     },
     "execution_count": 53,
     "metadata": {},
     "output_type": "execute_result"
    }
   ],
   "source": [
    "c = idft(a)"
   ]
  },
  {
   "cell_type": "code",
   "execution_count": 54,
   "id": "bfe9169f",
   "metadata": {},
   "outputs": [
    {
     "data": {
      "text/plain": [
       "101-element Vector{ComplexF64}:\n",
       " 1.75876914792104e-17 + 8.450336140401872e-18im\n",
       "   0.8414709848078964 - 4.327711990928259e-16im\n",
       "   0.9092974268256819 + 6.109228657989585e-17im\n",
       "  0.14112000805986705 - 8.453975718503664e-17im\n",
       "  -0.7568024953079286 + 1.3554999872401833e-16im\n",
       "  -0.9589242746631386 - 4.890046589603545e-16im\n",
       "   -0.279415498198926 - 3.631914981325725e-16im\n",
       "   0.6569865987187891 + 1.1901808976114589e-17im\n",
       "   0.9893582466233821 + 5.3835889039903736e-17im\n",
       "   0.4121184852417567 - 2.2154435083170707e-16im\n",
       "    -0.54402111088937 - 1.7965404387962112e-16im\n",
       "  -0.9999902065507033 + 2.5006552982546137e-16im\n",
       "  -0.5365729180004348 + 1.9683159176683183e-16im\n",
       "                      ⋮\n",
       "   0.8600694058124531 - 3.414967970996723e-17im\n",
       "    0.893996663600558 - 2.8563358257342743e-16im\n",
       "  0.10598751175115705 + 3.236213660204185e-16im\n",
       "  -0.7794660696158049 + 2.294856243583708e-16im\n",
       "  -0.9482821412699475 - 1.9950767567641767e-16im\n",
       "  -0.2452519854676542 + 2.395704559434244e-16im\n",
       "   0.6832617147361211 + 6.117850529022225e-16im\n",
       "   0.9835877454343451 + 3.1055949623423486e-16im\n",
       "   0.3796077390275221 - 2.7123781692017944e-16im\n",
       "  -0.5733818719904226 + 2.3848489602776796e-16im\n",
       "   -0.999206834186354 - 1.691360881881966e-16im\n",
       "  -0.5063656411097587 + 1.8279800267953816e-16im"
      ]
     },
     "execution_count": 54,
     "metadata": {},
     "output_type": "execute_result"
    }
   ],
   "source": [
    "d = ifft(b)"
   ]
  },
  {
   "cell_type": "code",
   "execution_count": 55,
   "id": "99da67e2",
   "metadata": {},
   "outputs": [
    {
     "data": {
      "text/plain": [
       "true"
      ]
     },
     "execution_count": 55,
     "metadata": {},
     "output_type": "execute_result"
    }
   ],
   "source": [
    "isapprox(c,d)"
   ]
  },
  {
   "cell_type": "code",
   "execution_count": 56,
   "id": "3453cf24",
   "metadata": {},
   "outputs": [
    {
     "data": {
      "text/plain": [
       "true"
      ]
     },
     "execution_count": 56,
     "metadata": {},
     "output_type": "execute_result"
    }
   ],
   "source": [
    "isapprox(c,signal)"
   ]
  },
  {
   "cell_type": "code",
   "execution_count": 57,
   "id": "231c24f6",
   "metadata": {},
   "outputs": [
    {
     "data": {
      "text/plain": [
       "true"
      ]
     },
     "execution_count": 57,
     "metadata": {},
     "output_type": "execute_result"
    }
   ],
   "source": [
    "isapprox(d,signal)"
   ]
  },
  {
   "cell_type": "code",
   "execution_count": null,
   "id": "5e3d1b60",
   "metadata": {},
   "outputs": [],
   "source": []
  }
 ],
 "metadata": {
  "kernelspec": {
   "display_name": "Julia 1.10.5",
   "language": "julia",
   "name": "julia-1.10"
  },
  "language_info": {
   "file_extension": ".jl",
   "mimetype": "application/julia",
   "name": "julia",
   "version": "1.10.5"
  }
 },
 "nbformat": 4,
 "nbformat_minor": 5
}
